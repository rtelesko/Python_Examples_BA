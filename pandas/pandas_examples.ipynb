{
 "cells": [
  {
   "cell_type": "code",
   "id": "initial_id",
   "metadata": {
    "collapsed": true,
    "ExecuteTime": {
     "end_time": "2025-09-25T15:30:48.521055Z",
     "start_time": "2025-09-25T15:30:48.516607Z"
    }
   },
   "source": "import pandas as pd",
   "outputs": [],
   "execution_count": 35
  },
  {
   "metadata": {
    "ExecuteTime": {
     "end_time": "2025-09-25T15:30:50.651311Z",
     "start_time": "2025-09-25T15:30:50.641744Z"
    }
   },
   "cell_type": "code",
   "source": [
    "# Create a Series\n",
    "my_series = pd.Series([10, 20, 30, 40], name='My Data')\n",
    "print(\"This is a Series:\")\n",
    "print(my_series)"
   ],
   "id": "4e7042db3f7af6f2",
   "outputs": [
    {
     "name": "stdout",
     "output_type": "stream",
     "text": [
      "This is a Series:\n",
      "0    10\n",
      "1    20\n",
      "2    30\n",
      "3    40\n",
      "Name: My Data, dtype: int64\n"
     ]
    }
   ],
   "execution_count": 36
  },
  {
   "metadata": {
    "ExecuteTime": {
     "end_time": "2025-09-25T15:30:51.888125Z",
     "start_time": "2025-09-25T15:30:51.879689Z"
    }
   },
   "cell_type": "code",
   "source": [
    "# Create a DataFrame (from a dictionary of Series)\n",
    "data = {'col_A': my_series, 'col_B': [1, 2, 3, 4]}\n",
    "my_dataframe = pd.DataFrame(data)\n",
    "print(\"\\nThis is a DataFrame:\")\n",
    "print(my_dataframe)"
   ],
   "id": "529ff42d2602d6ae",
   "outputs": [
    {
     "name": "stdout",
     "output_type": "stream",
     "text": [
      "\n",
      "This is a DataFrame:\n",
      "   col_A  col_B\n",
      "0     10      1\n",
      "1     20      2\n",
      "2     30      3\n",
      "3     40      4\n"
     ]
    }
   ],
   "execution_count": 37
  },
  {
   "metadata": {
    "ExecuteTime": {
     "end_time": "2025-09-25T15:30:53.132549Z",
     "start_time": "2025-09-25T15:30:53.122167Z"
    }
   },
   "cell_type": "code",
   "source": [
    "# Create a Series with a custom index\n",
    "my_series = pd.Series([10, 20, 30, 40], index=['a', 'b', 'c', 'd'])\n",
    "print(\"Series Index:\", my_series.index)\n",
    "print(\"Series Values:\", my_series.values)"
   ],
   "id": "4d5aa8da4b77fb6a",
   "outputs": [
    {
     "name": "stdout",
     "output_type": "stream",
     "text": [
      "Series Index: Index(['a', 'b', 'c', 'd'], dtype='object')\n",
      "Series Values: [10 20 30 40]\n"
     ]
    }
   ],
   "execution_count": 38
  },
  {
   "metadata": {
    "ExecuteTime": {
     "end_time": "2025-09-25T15:30:54.341564Z",
     "start_time": "2025-09-25T15:30:54.332973Z"
    }
   },
   "cell_type": "code",
   "source": [
    "# Create a dictionary with sample data\n",
    "data = {\n",
    "'Name': ['Alice', 'Bob', 'Charlie', 'David', 'Eve'],\n",
    "'Age': [25, 30, 35, 40, 25],\n",
    "'City': ['New York', 'Los Angeles', 'Chicago', 'Houston', 'New York'],'Salary': [70000, 80000, 90000, 100000, 75000]\n",
    "}\n",
    "# Create a DataFrame\n",
    "df = pd.DataFrame(data)\n",
    "print(df)"
   ],
   "id": "1b65d1b3a8d3a6bc",
   "outputs": [
    {
     "name": "stdout",
     "output_type": "stream",
     "text": [
      "      Name  Age         City  Salary\n",
      "0    Alice   25     New York   70000\n",
      "1      Bob   30  Los Angeles   80000\n",
      "2  Charlie   35      Chicago   90000\n",
      "3    David   40      Houston  100000\n",
      "4      Eve   25     New York   75000\n"
     ]
    }
   ],
   "execution_count": 39
  },
  {
   "metadata": {
    "ExecuteTime": {
     "end_time": "2025-09-25T15:30:58.157041Z",
     "start_time": "2025-09-25T15:30:58.152158Z"
    }
   },
   "cell_type": "code",
   "source": [
    "# Data provided as a list of lists\n",
    "data = [\n",
    "    ['Alice', 25, 70000],\n",
    "    ['Bob', 30, 80000],\n",
    "    ['Charlie', 35, 90000],\n",
    "    ['David', 40, 100000],\n",
    "    ['Eve', 25, 75000]\n",
    "]\n"
   ],
   "id": "5ceec93c0b580eae",
   "outputs": [],
   "execution_count": 40
  },
  {
   "metadata": {
    "ExecuteTime": {
     "end_time": "2025-09-25T15:31:00.051667Z",
     "start_time": "2025-09-25T15:31:00.039669Z"
    }
   },
   "cell_type": "code",
   "source": [
    "# Column names for the DataFrame\n",
    "column_names = ['Name', 'Age', 'Salary']\n",
    "# Create the DataFrame\n",
    "df = pd.DataFrame(data, columns=column_names)\n",
    "print(\"DataFrame filled from a list:\")\n",
    "print(df)\n",
    "# Check the index\n",
    "print(\"\\nDataFrame Index:\")\n",
    "print(df.index)\n",
    "# Check the columns\n",
    "print(\"\\nDataFrame Columns:\")\n",
    "print(df.columns)"
   ],
   "id": "fcb9eb00b1b61fa0",
   "outputs": [
    {
     "name": "stdout",
     "output_type": "stream",
     "text": [
      "DataFrame filled from a list:\n",
      "      Name  Age  Salary\n",
      "0    Alice   25   70000\n",
      "1      Bob   30   80000\n",
      "2  Charlie   35   90000\n",
      "3    David   40  100000\n",
      "4      Eve   25   75000\n",
      "\n",
      "DataFrame Index:\n",
      "RangeIndex(start=0, stop=5, step=1)\n",
      "\n",
      "DataFrame Columns:\n",
      "Index(['Name', 'Age', 'Salary'], dtype='object')\n"
     ]
    }
   ],
   "execution_count": 41
  },
  {
   "metadata": {
    "ExecuteTime": {
     "end_time": "2025-09-25T15:31:03.137920Z",
     "start_time": "2025-09-25T15:31:03.125738Z"
    }
   },
   "cell_type": "code",
   "source": [
    "# Assuming 'df' is the DataFrame from the previous slide\n",
    "# ... (code to create df) ...\n",
    "print(\"DataFrame info():\")\n",
    "df.info()\n",
    "print(\"\\nDataFrame shape:\")\n",
    "print(df.shape)"
   ],
   "id": "1a594376229cb540",
   "outputs": [
    {
     "name": "stdout",
     "output_type": "stream",
     "text": [
      "DataFrame info():\n",
      "<class 'pandas.core.frame.DataFrame'>\n",
      "RangeIndex: 5 entries, 0 to 4\n",
      "Data columns (total 3 columns):\n",
      " #   Column  Non-Null Count  Dtype \n",
      "---  ------  --------------  ----- \n",
      " 0   Name    5 non-null      object\n",
      " 1   Age     5 non-null      int64 \n",
      " 2   Salary  5 non-null      int64 \n",
      "dtypes: int64(2), object(1)\n",
      "memory usage: 252.0+ bytes\n",
      "\n",
      "DataFrame shape:\n",
      "(5, 3)\n"
     ]
    }
   ],
   "execution_count": 42
  },
  {
   "metadata": {
    "ExecuteTime": {
     "end_time": "2025-09-25T15:31:04.584659Z",
     "start_time": "2025-09-25T15:31:04.566916Z"
    }
   },
   "cell_type": "code",
   "source": [
    "# Get descriptive statistics for numerical columns\n",
    "print(\"\\nDescriptive Statistics:\")\n",
    "print(df.describe())"
   ],
   "id": "db77758b45116172",
   "outputs": [
    {
     "name": "stdout",
     "output_type": "stream",
     "text": [
      "\n",
      "Descriptive Statistics:\n",
      "             Age         Salary\n",
      "count   5.000000       5.000000\n",
      "mean   31.000000   83000.000000\n",
      "std     6.519202   12041.594579\n",
      "min    25.000000   70000.000000\n",
      "25%    25.000000   75000.000000\n",
      "50%    30.000000   80000.000000\n",
      "75%    35.000000   90000.000000\n",
      "max    40.000000  100000.000000\n"
     ]
    }
   ],
   "execution_count": 43
  },
  {
   "metadata": {
    "ExecuteTime": {
     "end_time": "2025-09-25T15:31:07.733018Z",
     "start_time": "2025-09-25T15:31:07.723067Z"
    }
   },
   "cell_type": "code",
   "source": [
    "# Option 1: Assign a constant value, i.e. every row gets the same value\n",
    "df['Country'] = 'USA'\n",
    "\n",
    "# Option 2: Compute from existing columns\n",
    "df['Age_in_5_years'] = df['Age'] + 5\n"
   ],
   "id": "c989b724c387ae19",
   "outputs": [],
   "execution_count": 44
  },
  {
   "metadata": {
    "ExecuteTime": {
     "end_time": "2025-09-25T15:31:10.337731Z",
     "start_time": "2025-09-25T15:31:10.312380Z"
    }
   },
   "cell_type": "code",
   "source": [
    "# --- Writing Data to Files ---\n",
    "df.to_csv('output.csv', index=False)\n",
    "print(\"DataFrame saved to 'output.csv'\")\n",
    "df.to_excel('output.xlsx', index=False)\n",
    "print(\"DataFrame saved to 'output.xlsx'\")\n",
    "df.to_json('output.json', orient='records')\n",
    "print(\"DataFrame saved to 'output.json'\")"
   ],
   "id": "5d023aecd63cf744",
   "outputs": [
    {
     "name": "stdout",
     "output_type": "stream",
     "text": [
      "DataFrame saved to 'output.csv'\n",
      "DataFrame saved to 'output.xlsx'\n",
      "DataFrame saved to 'output.json'\n"
     ]
    }
   ],
   "execution_count": 45
  },
  {
   "metadata": {
    "ExecuteTime": {
     "end_time": "2025-09-25T15:31:26.057311Z",
     "start_time": "2025-09-25T15:31:26.037504Z"
    }
   },
   "cell_type": "code",
   "source": [
    "df_from_csv = pd.read_csv('output.csv')\n",
    "print(\"\\nDataFrame loaded from 'output.csv':\")\n",
    "print(df_from_csv)\n",
    "df_from_json = pd.read_json('output.json')\n",
    "print(\"\\nDataFrame loaded from 'output.json':\")\n",
    "print(df_from_json)\n",
    "# Note: The 'output.xlsx' file requires the 'openpyxl' library\n",
    "# It would be loaded the same way: pd.read_excel('output.xlsx')"
   ],
   "id": "de95437b32176fae",
   "outputs": [
    {
     "name": "stdout",
     "output_type": "stream",
     "text": [
      "\n",
      "DataFrame loaded from 'output.csv':\n",
      "      Name  Age  Salary Country  Age_in_5_years\n",
      "0    Alice   25   70000     USA              30\n",
      "1      Bob   30   80000     USA              35\n",
      "2  Charlie   35   90000     USA              40\n",
      "3    David   40  100000     USA              45\n",
      "4      Eve   25   75000     USA              30\n",
      "\n",
      "DataFrame loaded from 'output.json':\n",
      "      Name  Age  Salary Country  Age_in_5_years\n",
      "0    Alice   25   70000     USA              30\n",
      "1      Bob   30   80000     USA              35\n",
      "2  Charlie   35   90000     USA              40\n",
      "3    David   40  100000     USA              45\n",
      "4      Eve   25   75000     USA              30\n"
     ]
    }
   ],
   "execution_count": 46
  },
  {
   "metadata": {
    "ExecuteTime": {
     "end_time": "2025-09-25T15:31:30.762407Z",
     "start_time": "2025-09-25T15:31:30.748919Z"
    }
   },
   "cell_type": "code",
   "source": [
    "# Show the first 3 rows\n",
    "print(\"First 3 rows:\")\n",
    "print(df.head(3))\n",
    "# Show the last 2 rows\n",
    "print(\"\\nLast 2 rows:\")\n",
    "print(df.tail(2))"
   ],
   "id": "623685332bd7bc25",
   "outputs": [
    {
     "name": "stdout",
     "output_type": "stream",
     "text": [
      "First 3 rows:\n",
      "      Name  Age  Salary Country  Age_in_5_years\n",
      "0    Alice   25   70000     USA              30\n",
      "1      Bob   30   80000     USA              35\n",
      "2  Charlie   35   90000     USA              40\n",
      "\n",
      "Last 2 rows:\n",
      "    Name  Age  Salary Country  Age_in_5_years\n",
      "3  David   40  100000     USA              45\n",
      "4    Eve   25   75000     USA              30\n"
     ]
    }
   ],
   "execution_count": 47
  },
  {
   "metadata": {
    "ExecuteTime": {
     "end_time": "2025-09-25T15:31:32.051995Z",
     "start_time": "2025-09-25T15:31:32.039982Z"
    }
   },
   "cell_type": "code",
   "source": [
    "# Select rows from index 1 up to (but not including) 4\n",
    "slice_of_rows = df[1:4]\n",
    "print(\"Slice of rows 1, 2, and 3:\")\n",
    "print(slice_of_rows)\n",
    "# Select all rows from index 2 to the end\n",
    "slice_to_end = df[2:]\n",
    "print(\"\\nSlice of rows from index 2 to the end:\")\n",
    "print(slice_to_end)"
   ],
   "id": "64f8d2faf5d8009",
   "outputs": [
    {
     "name": "stdout",
     "output_type": "stream",
     "text": [
      "Slice of rows 1, 2, and 3:\n",
      "      Name  Age  Salary Country  Age_in_5_years\n",
      "1      Bob   30   80000     USA              35\n",
      "2  Charlie   35   90000     USA              40\n",
      "3    David   40  100000     USA              45\n",
      "\n",
      "Slice of rows from index 2 to the end:\n",
      "      Name  Age  Salary Country  Age_in_5_years\n",
      "2  Charlie   35   90000     USA              40\n",
      "3    David   40  100000     USA              45\n",
      "4      Eve   25   75000     USA              30\n"
     ]
    }
   ],
   "execution_count": 48
  },
  {
   "metadata": {
    "ExecuteTime": {
     "end_time": "2025-09-25T15:31:35.199944Z",
     "start_time": "2025-09-25T15:31:35.185997Z"
    }
   },
   "cell_type": "code",
   "source": [
    "# Sort the DataFrame by salary in descending order\n",
    "df_sorted = df.sort_values(by='Salary', ascending=False)\n",
    "print(\"DataFrame sorted by salary (descending):\")\n",
    "print(df_sorted)\n",
    "# Sort by age (ascending) and then by salary (descending)\n",
    "df_multi_sort = df.sort_values(by=['Age', 'Salary'], ascending=[True, False])\n",
    "print(\"\\nDataFrame sorted by age then salary:\")\n",
    "print(df_multi_sort)"
   ],
   "id": "98b4f609c320f8c0",
   "outputs": [
    {
     "name": "stdout",
     "output_type": "stream",
     "text": [
      "DataFrame sorted by salary (descending):\n",
      "      Name  Age  Salary Country  Age_in_5_years\n",
      "3    David   40  100000     USA              45\n",
      "2  Charlie   35   90000     USA              40\n",
      "1      Bob   30   80000     USA              35\n",
      "4      Eve   25   75000     USA              30\n",
      "0    Alice   25   70000     USA              30\n",
      "\n",
      "DataFrame sorted by age then salary:\n",
      "      Name  Age  Salary Country  Age_in_5_years\n",
      "4      Eve   25   75000     USA              30\n",
      "0    Alice   25   70000     USA              30\n",
      "1      Bob   30   80000     USA              35\n",
      "2  Charlie   35   90000     USA              40\n",
      "3    David   40  100000     USA              45\n"
     ]
    }
   ],
   "execution_count": 49
  },
  {
   "metadata": {
    "ExecuteTime": {
     "end_time": "2025-09-25T15:31:39.552647Z",
     "start_time": "2025-09-25T15:31:39.544503Z"
    }
   },
   "cell_type": "code",
   "source": [
    "# Select the 'Name' column\n",
    "names = df['Name']\n",
    "print(\"Names (Series):\")\n",
    "print(names)\n",
    "# Select 'Name' and 'Salary' columns\n",
    "names_and_salaries = df[['Name', 'Salary']]\n",
    "print(\"\\nNames and Salaries (DataFrame):\")\n",
    "print(names_and_salaries)"
   ],
   "id": "93c17f959c3203b9",
   "outputs": [
    {
     "name": "stdout",
     "output_type": "stream",
     "text": [
      "Names (Series):\n",
      "0      Alice\n",
      "1        Bob\n",
      "2    Charlie\n",
      "3      David\n",
      "4        Eve\n",
      "Name: Name, dtype: object\n",
      "\n",
      "Names and Salaries (DataFrame):\n",
      "      Name  Salary\n",
      "0    Alice   70000\n",
      "1      Bob   80000\n",
      "2  Charlie   90000\n",
      "3    David  100000\n",
      "4      Eve   75000\n"
     ]
    }
   ],
   "execution_count": 50
  },
  {
   "metadata": {
    "ExecuteTime": {
     "end_time": "2025-09-25T15:31:43.412426Z",
     "start_time": "2025-09-25T15:31:43.394025Z"
    }
   },
   "cell_type": "code",
   "source": [
    "# Adding a new city attribute for the persons\n",
    "df['City'] = ['New York', 'LA', 'Chicago', 'Houston', 'LA']\n",
    "\n",
    "# Example 1: Count how many people live in each City\n",
    "print(\"\\nValue counts for City:\")\n",
    "print(df['City'].value_counts())\n",
    "# Example 2: Normalize to get proportions instead of raw counts\n",
    "print(\"\\nProportion of each City:\")\n",
    "print(df['City'].value_counts(normalize=True))\n",
    "\n"
   ],
   "id": "a1b0e04776fca4fc",
   "outputs": [
    {
     "name": "stdout",
     "output_type": "stream",
     "text": [
      "\n",
      "Value counts for City:\n",
      "City\n",
      "LA          2\n",
      "New York    1\n",
      "Chicago     1\n",
      "Houston     1\n",
      "Name: count, dtype: int64\n",
      "\n",
      "Proportion of each City:\n",
      "City\n",
      "LA          0.4\n",
      "New York    0.2\n",
      "Chicago     0.2\n",
      "Houston     0.2\n",
      "Name: proportion, dtype: float64\n"
     ]
    }
   ],
   "execution_count": 51
  },
  {
   "metadata": {
    "ExecuteTime": {
     "end_time": "2025-09-25T15:31:44.766176Z",
     "start_time": "2025-09-25T15:31:44.750314Z"
    }
   },
   "cell_type": "code",
   "source": [
    "# Filter for people older than 30\n",
    "age_filter = df['Age'] > 30\n",
    "old_people = df[age_filter]\n",
    "print(\"People older than 30:\")\n",
    "print(old_people)\n",
    "# Filter for people from 'New York' with a salary > 70000\n",
    "ny_and_high_salary = df[(df['City'] == 'New York') & (df['Salary'] > 70000 )]\n",
    "print(\"\\nPeople from New York with high salary:\")\n",
    "print(ny_and_high_salary)"
   ],
   "id": "fe466f63536213f4",
   "outputs": [
    {
     "name": "stdout",
     "output_type": "stream",
     "text": [
      "People older than 30:\n",
      "      Name  Age  Salary Country  Age_in_5_years     City\n",
      "2  Charlie   35   90000     USA              40  Chicago\n",
      "3    David   40  100000     USA              45  Houston\n",
      "\n",
      "People from New York with high salary:\n",
      "Empty DataFrame\n",
      "Columns: [Name, Age, Salary, Country, Age_in_5_years, City]\n",
      "Index: []\n"
     ]
    }
   ],
   "execution_count": 52
  },
  {
   "metadata": {
    "ExecuteTime": {
     "end_time": "2025-09-25T15:31:47.977082Z",
     "start_time": "2025-09-25T15:31:47.965783Z"
    }
   },
   "cell_type": "code",
   "source": [
    "# --- isin() and ~ (Reverse) Operator Example ---\n",
    "print(\"\\n--- isin() and ~ (Reverse) Operator Example ---\")\n",
    "# Filter for people NOT from 'New York' or 'Houston'\n",
    "# We use ~ to negate the condition created by isin()\n",
    "selected_cities = ['New York', 'Houston']\n",
    "not_in_cities = df[~df['City'].isin(selected_cities)]\n",
    "print(\"People NOT from New York or Houston:\")\n",
    "print(not_in_cities)"
   ],
   "id": "aacfd145bd40ce68",
   "outputs": [
    {
     "name": "stdout",
     "output_type": "stream",
     "text": [
      "\n",
      "--- isin() and ~ (Reverse) Operator Example ---\n",
      "People NOT from New York or Houston:\n",
      "      Name  Age  Salary Country  Age_in_5_years     City\n",
      "1      Bob   30   80000     USA              35       LA\n",
      "2  Charlie   35   90000     USA              40  Chicago\n",
      "4      Eve   25   75000     USA              30       LA\n"
     ]
    }
   ],
   "execution_count": 53
  },
  {
   "metadata": {
    "ExecuteTime": {
     "end_time": "2025-09-25T15:31:49.940019Z",
     "start_time": "2025-09-25T15:31:49.922608Z"
    }
   },
   "cell_type": "code",
   "source": [
    "# Use .query() to filter for people older than 30\n",
    "old_people_query = df.query('Age > 30')\n",
    "print(\"People older than 30 using .query():\")\n",
    "print(old_people_query)\n",
    "# Use .query() to filter for people from 'New York' with high salary\n",
    "ny_and_high_salary_query = df.query(\"City == 'New York' and Salary > 70000\")\n",
    "print(\"\\nPeople from New York with high salary using .query():\")\n",
    "print(ny_and_high_salary_query)"
   ],
   "id": "e9e7d5a206ccd4b4",
   "outputs": [
    {
     "name": "stdout",
     "output_type": "stream",
     "text": [
      "People older than 30 using .query():\n",
      "      Name  Age  Salary Country  Age_in_5_years     City\n",
      "2  Charlie   35   90000     USA              40  Chicago\n",
      "3    David   40  100000     USA              45  Houston\n",
      "\n",
      "People from New York with high salary using .query():\n",
      "Empty DataFrame\n",
      "Columns: [Name, Age, Salary, Country, Age_in_5_years, City]\n",
      "Index: []\n"
     ]
    }
   ],
   "execution_count": 54
  },
  {
   "metadata": {
    "ExecuteTime": {
     "end_time": "2025-09-25T15:31:53.284743Z",
     "start_time": "2025-09-25T15:31:53.277098Z"
    }
   },
   "cell_type": "code",
   "source": [
    "# Select a single cell by row and column labels\n",
    "single_cell = df.loc[0, 'Name']\n",
    "print(\"Value at row 0, column 'Name':\", single_cell)\n",
    "# Select rows 1 through 3 and the 'Name' and 'Age' columns\n",
    "rows_and_cols = df.loc[1:3,['Name', 'Age']]\n",
    "print(\"\\nRows 1-3 and columns 'Name'/'Age':\")\n",
    "print(rows_and_cols)"
   ],
   "id": "979271cdb855dd27",
   "outputs": [
    {
     "name": "stdout",
     "output_type": "stream",
     "text": [
      "Value at row 0, column 'Name': Alice\n",
      "\n",
      "Rows 1-3 and columns 'Name'/'Age':\n",
      "      Name  Age\n",
      "1      Bob   30\n",
      "2  Charlie   35\n",
      "3    David   40\n"
     ]
    }
   ],
   "execution_count": 55
  },
  {
   "metadata": {
    "ExecuteTime": {
     "end_time": "2025-09-25T15:31:56.084999Z",
     "start_time": "2025-09-25T15:31:56.076015Z"
    }
   },
   "cell_type": "code",
   "source": [
    "# Select a single cell by row and column index\n",
    "single_cell_iloc = df.iloc[0, 0]\n",
    "print(\"Value at row 0, column 0:\", single_cell_iloc)\n",
    "# Select all rows and the first and third columns\n",
    "all_rows_some_cols = df.iloc[:, [0,2]]\n",
    "print(\"\\nAll rows, first and third columns:\")\n",
    "print(all_rows_some_cols)"
   ],
   "id": "1b16daf6e18000a4",
   "outputs": [
    {
     "name": "stdout",
     "output_type": "stream",
     "text": [
      "Value at row 0, column 0: Alice\n",
      "\n",
      "All rows, first and third columns:\n",
      "      Name  Salary\n",
      "0    Alice   70000\n",
      "1      Bob   80000\n",
      "2  Charlie   90000\n",
      "3    David  100000\n",
      "4      Eve   75000\n"
     ]
    }
   ],
   "execution_count": 56
  },
  {
   "metadata": {
    "ExecuteTime": {
     "end_time": "2025-09-25T15:31:57.540285Z",
     "start_time": "2025-09-25T15:31:57.533881Z"
    }
   },
   "cell_type": "code",
   "source": [
    "# Get a single column\n",
    "salaries = df['Salary']\n",
    "# Calculate various statistics\n",
    "print(\"Total Salary:\", salaries.sum())\n",
    "print(\"Average Salary:\", salaries.mean())\n",
    "print(\"Minimum Salary:\", salaries.min())\n",
    "print(\"Maximum Salary:\", salaries.max())\n",
    "print(\"Median Salary:\", salaries.median())\n",
    "print(\"Salary Standard Deviation:\", salaries.std())"
   ],
   "id": "3b99f88a601a7d68",
   "outputs": [
    {
     "name": "stdout",
     "output_type": "stream",
     "text": [
      "Total Salary: 415000\n",
      "Average Salary: 83000.0\n",
      "Minimum Salary: 70000\n",
      "Maximum Salary: 100000\n",
      "Median Salary: 80000.0\n",
      "Salary Standard Deviation: 12041.594578792296\n"
     ]
    }
   ],
   "execution_count": 57
  },
  {
   "metadata": {
    "ExecuteTime": {
     "end_time": "2025-09-25T15:32:01.255676Z",
     "start_time": "2025-09-25T15:32:01.248215Z"
    }
   },
   "cell_type": "code",
   "source": [
    "# Calculate the average salary for each city\n",
    "avg_salary_by_city = df.groupby('City')['Salary'].mean()\n",
    "print(\"Average salary by city:\")\n",
    "print(avg_salary_by_city)\n",
    "# Count the number of people in each city\n",
    "people_by_city = df.groupby('City')['Name'].count()\n",
    "print(\"\\nNumber of people by city:\")\n",
    "print(people_by_city)"
   ],
   "id": "b12194e2728b57cc",
   "outputs": [
    {
     "name": "stdout",
     "output_type": "stream",
     "text": [
      "Average salary by city:\n",
      "City\n",
      "Chicago      90000.0\n",
      "Houston     100000.0\n",
      "LA           77500.0\n",
      "New York     70000.0\n",
      "Name: Salary, dtype: float64\n",
      "\n",
      "Number of people by city:\n",
      "City\n",
      "Chicago     1\n",
      "Houston     1\n",
      "LA          2\n",
      "New York    1\n",
      "Name: Name, dtype: int64\n"
     ]
    }
   ],
   "execution_count": 58
  },
  {
   "metadata": {
    "ExecuteTime": {
     "end_time": "2025-09-25T15:32:05.596220Z",
     "start_time": "2025-09-25T15:32:05.582653Z"
    }
   },
   "cell_type": "code",
   "source": [
    "# Group by Age and apply functions to both Age & Salary\n",
    "print(\"\\nAggregations on Age & Salary grouped by Age:\")\n",
    "print(df.groupby('Age').agg({\n",
    "'Age': 'count', # count how many people per age\n",
    "'Salary': ['min', 'max', 'mean'] # salary stats\n",
    "}))"
   ],
   "id": "ba4ed3934ae37877",
   "outputs": [
    {
     "name": "stdout",
     "output_type": "stream",
     "text": [
      "\n",
      "Aggregations on Age & Salary grouped by Age:\n",
      "      Age  Salary                  \n",
      "    count     min     max      mean\n",
      "Age                                \n",
      "25      2   70000   75000   72500.0\n",
      "30      1   80000   80000   80000.0\n",
      "35      1   90000   90000   90000.0\n",
      "40      1  100000  100000  100000.0\n"
     ]
    }
   ],
   "execution_count": 59
  },
  {
   "metadata": {
    "ExecuteTime": {
     "end_time": "2025-09-25T15:32:07.163146Z",
     "start_time": "2025-09-25T15:32:06.809945Z"
    }
   },
   "cell_type": "code",
   "source": [
    "import matplotlib.pyplot as plt\n",
    "# Create a bar plot of average salary by city\n",
    "df.groupby('City')['Salary'].mean().plot(kind='bar', title='Average Salary by City')\n",
    "plt.ylabel('Average Salary')\n",
    "plt.show()\n",
    "# Create a scatter plot of Age vs. Salary\n",
    "df.plot(kind='scatter', x='Age', y='Salary', title='Age vs. Salary')\n",
    "plt.show()"
   ],
   "id": "4ab6f92bb4ac5cd6",
   "outputs": [
    {
     "data": {
      "text/plain": [
       "<Figure size 640x480 with 1 Axes>"
      ],
      "image/png": "[encoded data removed]"
     },
     "metadata": {},
     "output_type": "display_data",
     "jetTransient": {
      "display_id": null
     }
    },
    {
     "data": {
      "text/plain": [
       "<Figure size 640x480 with 1 Axes>"
      ],
      "image/png": "[encoded data removed]"
     },
     "metadata": {},
     "output_type": "display_data",
     "jetTransient": {
      "display_id": null
     }
    }
   ],
   "execution_count": 60
  }
 ],
 "metadata": {
  "kernelspec": {
   "display_name": "Python 3",
   "language": "python",
   "name": "python3"
  },
  "language_info": {
   "codemirror_mode": {
    "name": "ipython",
    "version": 2
   },
   "file_extension": ".py",
   "mimetype": "text/x-python",
   "name": "python",
   "nbconvert_exporter": "python",
   "pygments_lexer": "ipython2",
   "version": "2.7.6"
  }
 },
 "nbformat": 4,
 "nbformat_minor": 5
}
